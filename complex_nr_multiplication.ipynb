{
 "cells": [
  {
   "cell_type": "code",
   "execution_count": 38,
   "metadata": {
    "scrolled": true
   },
   "outputs": [],
   "source": [
    "from bqplot import (\n",
    "    Axis, Scatter, Lines, Figure, LinearScale\n",
    ")\n",
    "from ipywidgets import HBox\n",
    "from collections import namedtuple\n",
    "from numpy import add\n",
    "sc_x = LinearScale(min=-5,max=5)\n",
    "sc_y = sc_x\n",
    "\n",
    "VectorControl = namedtuple('VectorControl',['vec','marks','addListener'])\n",
    "def vector_control(v_coords,color='green'): \n",
    "    \"\"\"\n",
    "    An interactive vector.\n",
    "    @return the marks making it up, and the method to update self\n",
    "    addListener adds a function that is called when the vector is changed.\n",
    "    \"\"\"\n",
    "    x_a,y_a = v_coords\n",
    "    lin = Lines(x=[0,x_a], y=[0,y_a], scales={'x': sc_x, 'y': sc_y}, colors=[color])\n",
    "    head = Scatter(x=[x_a], y=[y_a], scales={'x': sc_x, 'y': sc_y}, colors=[color],enable_move=True)\n",
    "    update_funcs=[] #list of methods to be called when this vector is changed (like changeListeners)\n",
    "    def vec():\n",
    "        return (head.x[0],head.y[0])\n",
    "    p = VectorControl(vec=vec,marks=[lin,head],addListener=lambda x: update_funcs.append(x))\n",
    "    def update_self():\n",
    "        lin.x=[0,head.x[0]]\n",
    "        lin.y=[0,head.y[0]]\n",
    "    head.update_on_move=True\n",
    "    def update(change=None):\n",
    "        update_self()\n",
    "        for f in update_funcs:\n",
    "            f()\n",
    "    head.observe(update,names=['x','y'])\n",
    "    return p\n",
    "\n",
    "Vector = namedtuple('Vector',['getVec','marks'])\n",
    "def dep_vector(color,update_func,*depended_on):\n",
    "    \"\"\"\n",
    "    A dependent vector. dependent_on must implement function addListener\n",
    "    The update_func receives all depended_on as parameters and returns an (x,y) tuple representing a vector.\n",
    "    The update_func is also added as listener to all depended_on.\n",
    "    \"\"\"\n",
    "    x_a,y_a = update_func(*depended_on)\n",
    "    lin = Lines(x=[0,x_a], y=[0,y_a], scales={'x': sc_x, 'y': sc_y}, colors=[color])\n",
    "    head = Scatter(x=[x_a], y=[y_a], scales={'x': sc_x, 'y': sc_y}, colors=[color],enable_move=False)\n",
    "    def setVec(v_coords):\n",
    "        head.x, head.y=[v_coords[0]], [v_coords[1]]\n",
    "        lin.x,lin.y=[0,v_coords[0]], [0,v_coords[1]]\n",
    "        \n",
    "    def getVec():\n",
    "        return (head.x[0],head.y[0])\n",
    "    update_func_applied = lambda : setVec(update_func(*depended_on))\n",
    "    for control in depended_on:\n",
    "        control.addListener(update_func_applied)\n",
    "    return Vector(getVec=getVec,marks=[lin,head])\n",
    "\n",
    "def affine_dep_vec(color,update_func,*depended_on):\n",
    "    \"\"\"\n",
    "    A dependent vector. dependent_on must implement function addListener\n",
    "    The update_func receives all depended_on as parameters and returns an (x_o,y_o),(x_a,y_a) pair of tuples.\n",
    "    The first is the origin, the second the head.\n",
    "    The update_func is also added as listener to all depended_on.\n",
    "    \"\"\"\n",
    "    (x_o,y_o),(x_a,y_a) = update_func(*depended_on)\n",
    "    lin = Lines(x=[x_o,x_a], y=[y_o,y_a], scales={'x': sc_x, 'y': sc_y}, colors=[color])\n",
    "    head = Scatter(x=[x_a], y=[y_a], scales={'x': sc_x, 'y': sc_y}, colors=[color],enable_move=False)\n",
    "    #would be nice if we had lenses here\n",
    "    def setVec(origin_v_coords):\n",
    "        (x_o,y_o),(x_a,y_a) = origin_v_coords\n",
    "        head.x, head.y=[x_a],[y_a]\n",
    "        lin.x,lin.y=[x_o,x_a], [y_o,y_a]\n",
    "        \n",
    "    def getVec():\n",
    "        return (head.x[0],head.y[0])\n",
    "    update_func_applied = lambda : setVec(update_func(*depended_on))\n",
    "    for control in depended_on:\n",
    "        control.addListener(update_func_applied)\n",
    "    return Vector(getVec=getVec,marks=[lin,head])\n",
    "\n"
   ]
  },
  {
   "cell_type": "markdown",
   "metadata": {},
   "source": [
    "# Complex number multiplication with z(a+ib) = za +zib"
   ]
  },
  {
   "cell_type": "code",
   "execution_count": 39,
   "metadata": {},
   "outputs": [
    {
     "data": {
      "application/vnd.jupyter.widget-view+json": {
       "model_id": "31297cdabc294c9bb7434317f979e176",
       "version_major": 2,
       "version_minor": 0
      },
      "text/plain": [
       "HBox(children=(Figure(axes=[Axis(scale=LinearScale(max=5.0, min=-5.0)), Axis(orientation='vertical', scale=Lin…"
      ]
     },
     "metadata": {},
     "output_type": "display_data"
    }
   ],
   "source": [
    "z1 = vector_control((1,0),'green')\n",
    "z2 = vector_control((0,1),'orange')\n",
    "\n",
    "def c_mult(z1,z2):\n",
    "    (x1,y1)=z1\n",
    "    (x2,y2)=z2\n",
    "    return (x1*x2-y1*y2,x1*y2+x2*y1)\n",
    "cv_mult = lambda z1,z2: c_mult(z1.vec(),z2.vec())\n",
    "\n",
    "stretched_z1=lambda z1,z2: c_mult(z1.vec(),(z2.vec()[0],0))\n",
    "rotated_z1=lambda z1,z2: c_mult(z1.vec(),(0,z2.vec()[1]))\n",
    "\n",
    "rot_translated_z1=lambda z1,z2: (stretched_z1(z1,z2),add(stretched_z1(z1,z2),rotated_z1(z1,z2)))\n",
    "\n",
    "stretched=dep_vector('green',stretched_z1,z1,z2)\n",
    "rot_tr=affine_dep_vec('orange', rot_translated_z1,z1,z2)\n",
    "multiplied=dep_vector('white',cv_mult,z1,z2)\n",
    "\n",
    "ax_x = Axis(scale=sc_x)\n",
    "ax_y = Axis(scale=sc_y, orientation='vertical')\n",
    "fig1 = Figure(marks=z1.marks+z2.marks, axes=[ax_x, ax_y])\n",
    "fig3 = Figure(marks= flatten(map((lambda x: x.marks), [stretched,rot_tr,multiplied])), axes=[ax_x, ax_y])\n",
    "HBox([fig1,fig3])\n"
   ]
  },
  {
   "cell_type": "markdown",
   "metadata": {},
   "source": [
    "# Components of Complex Number multiplication"
   ]
  },
  {
   "cell_type": "code",
   "execution_count": 19,
   "metadata": {},
   "outputs": [
    {
     "data": {
      "application/vnd.jupyter.widget-view+json": {
       "model_id": "7594f182000a4fa99c95be757018f2c0",
       "version_major": 2,
       "version_minor": 0
      },
      "text/plain": [
       "HBox(children=(Figure(axes=[Axis(scale=LinearScale(max=5.0, min=-5.0)), Axis(orientation='vertical', scale=Lin…"
      ]
     },
     "metadata": {},
     "output_type": "display_data"
    }
   ],
   "source": [
    "#we really need to do this in a proper editor where we can do rename refactorings\n",
    "z1 = vector_control((1,0),'green')\n",
    "z2 = vector_control((0,1),'orange')\n",
    "\n",
    "#ok how about this: \n",
    "#a dependent vector is initialized with vectors it depends on, and a function \n",
    "#that depends on those vectors that gets called with all of them as parameters\n",
    "#whenever any one gets updated. This is something that would never work in Haskell, I think\n",
    "#without some strange type family-Fu.\n",
    "#alright, we can do this! Though I'm missing the functionality of my emacs elpy mode...\n",
    "\n",
    "ac_func = lambda z1, z2: (z1.vec()[0]*z2.vec()[0],0)\n",
    "bd_func = lambda z1, z2: (-1*z1.vec()[1]*z2.vec()[1],0)\n",
    "ad_func = lambda z1, z2: (0,z1.vec()[0]*z2.vec()[1])\n",
    "cb_func = lambda z1, z2: ad_func(z2,z1)\n",
    "\n",
    "prod_func = lambda z1, z2: add.reduce((ac_func(z1,z2),bd_func(z1,z2),ad_func(z1,z2),cb_func(z1,z2)))\n",
    "\n",
    "ac = dep_vector('red',ac_func,z1,z2)\n",
    "bd = dep_vector('blue',bd_func,z1,z2)\n",
    "ad = dep_vector('red',ad_func,z1,z2)\n",
    "cb = dep_vector('blue',cb_func,z1,z2)\n",
    "\n",
    "prod = dep_vector('yellow',prod_func,z1,z2)\n",
    "\n",
    "#from: https://stackoverflow.com/questions/952914/how-to-make-a-flat-list-out-of-list-of-lists\n",
    "flatten = lambda l: [item for sublist in l for item in sublist]\n",
    "\n",
    "ax_x = Axis(scale=sc_x)\n",
    "ax_y = Axis(scale=sc_y, orientation='vertical')\n",
    "fig1 = Figure(marks=z1.marks+z2.marks, axes=[ax_x, ax_y])\n",
    "fig3 = Figure(marks= flatten(map((lambda x: x.marks), [ac,bd,ad,cb,prod])), axes=[ax_x, ax_y])\n",
    "HBox([fig1,fig3])"
   ]
  }
 ],
 "metadata": {
  "kernelspec": {
   "display_name": "Python 3",
   "language": "python",
   "name": "python3"
  },
  "language_info": {
   "codemirror_mode": {
    "name": "ipython",
    "version": 3
   },
   "file_extension": ".py",
   "mimetype": "text/x-python",
   "name": "python",
   "nbconvert_exporter": "python",
   "pygments_lexer": "ipython3",
   "version": "3.7.1"
  }
 },
 "nbformat": 4,
 "nbformat_minor": 2
}
