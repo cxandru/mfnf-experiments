{
 "cells": [
  {
   "cell_type": "code",
   "execution_count": 1,
   "metadata": {
    "scrolled": true
   },
   "outputs": [],
   "source": [
    "from bqplot import (\n",
    "    Axis, Scatter, Lines, Figure, LinearScale\n",
    ")\n",
    "from ipywidgets import HBox\n",
    "from collections import namedtuple\n",
    "from numpy import add\n",
    "sc_x = LinearScale(min=-5,max=5)\n",
    "sc_y = sc_x\n",
    "\n",
    "Vector = namedtuple('Vector',['vec','marks','addListeners'])\n",
    "def vector(v,color='green'): \n",
    "    \"\"\"\n",
    "    An interactive vector.\n",
    "    @return the marks making it up, and the method to update self\n",
    "    \"\"\"\n",
    "    x_a,y_a = v\n",
    "    lin = Lines(x=[0,x_a], y=[0,y_a], scales={'x': sc_x, 'y': sc_y}, colors=[color])\n",
    "    head = Scatter(x=[x_a], y=[y_a], scales={'x': sc_x, 'y': sc_y}, colors=[color],enable_move=True)\n",
    "    update_funcs=[] #list of functions taking x,y as input to be called when this vector is changed\n",
    "    def vec():\n",
    "        return (head.x[0],head.y[0])\n",
    "    p = Vector(vec=vec,marks=[lin,head],addListeners=lambda x: update_funcs.append(x))\n",
    "    def update_self():\n",
    "        lin.x=[0,head.x[0]]\n",
    "        lin.y=[0,head.y[0]]\n",
    "    head.update_on_move=True\n",
    "    def update(change=None):\n",
    "        update_self()\n",
    "        for f in update_funcs:\n",
    "            f(head.x[0], head.y[0])\n",
    "    head.observe(update,names=['x','y'])\n",
    "    return p\n",
    "\n",
    "# TODO: add arrow / icon indicating the direction of the surface \n",
    "def par(off_v,i_hat,j_hat,color):\n",
    "    \"\"\"\n",
    "    A parallelogram.\n",
    "    \"\"\"\n",
    "    x_off,y_off=off_v\n",
    "    i_x,i_y=i_hat\n",
    "    j_x,j_y=j_hat\n",
    "    lin = Lines(  x=[], y=[]\n",
    "                , scales={'x': sc_x, 'y': sc_y}\n",
    "                , close_path=True, fill='inside'\n",
    "                , fill_opacities=[0.5]\n",
    "                , colors=[color])\n",
    "    def update(off_vn=None,i_hatn=None,j_hatn=None):#parameter defaults are not dynamic!\n",
    "        nonlocal off_v,i_hat,j_hat\n",
    "        off_v,i_hat,j_hat=off_v if off_vn is None else off_vn,i_hat if i_hatn is None else i_hatn,j_hat if j_hatn is None else j_hatn\n",
    "        (x_off,y_off),(i_x,i_y),(j_x,j_y)=off_v,i_hat,j_hat\n",
    "        lin.y=[y+y_off for y in [0,i_y,i_y+j_y,j_y]]\n",
    "        lin.x=[x+x_off for x in [0,i_x,i_x+j_x,j_x]]\n",
    "    update()\n",
    "    return (lin,update)"
   ]
  },
  {
   "cell_type": "markdown",
   "metadata": {},
   "source": [
    "# Determinant Sum Demonstration"
   ]
  },
  {
   "cell_type": "code",
   "execution_count": 3,
   "metadata": {},
   "outputs": [
    {
     "data": {
      "application/vnd.jupyter.widget-view+json": {
       "model_id": "7eae52cbaeaa439c85c5987b42c4c52b",
       "version_major": 2,
       "version_minor": 0
      },
      "text/plain": [
       "HBox(children=(Figure(axes=[Axis(scale=LinearScale(max=5.0, min=-5.0)), Axis(orientation='vertical', scale=Lin…"
      ]
     },
     "metadata": {},
     "output_type": "display_data"
    }
   ],
   "source": [
    "i_1 = vector((1,0),'green') #a\n",
    "j_1= vector((0,1),'orange') #b\n",
    "par1,u_par1 = par((0,0),i_1.vec(),j_1.vec(),'green') #|a b|\n",
    "\n",
    "i_2 = vector((0,1),'blue') #c\n",
    "j_2= vector((1,0),'red') #d\n",
    "par2,u_par2 = par(add(i_1.vec(),j_1.vec()),i_2.vec(),j_2.vec(),'blue') #|c dQ|\n",
    "\n",
    "par3,u_par3 = par(j_1.vec(),i_1.vec(),j_2.vec(),'red') #|a d|\n",
    "par4,u_par4 = par(i_1.vec(),i_2.vec(),j_1.vec(),'orange')#|c b|\n",
    "\n",
    "#par for actual sum\n",
    "par5,u_par5 = par((0,0),add(i_1.vec(),i_2.vec()),add(j_1.vec(),j_2.vec()),'white')\n",
    "\n",
    "\n",
    "i_1.addListeners(lambda x, y: ( u_par1(i_hatn=(x,y)) #this screams it needs improvement. incorporate bindings directly into the 'gram definition somehow?\n",
    "                               ,u_par2(off_vn=add(j_1.vec(),(x,y)))\n",
    "                               ,u_par3(i_hatn=(x,y))\n",
    "                               ,u_par4(off_vn=(x,y))\n",
    "                               ,u_par5(i_hatn=add((x,y),i_2.vec()))\n",
    "                              ))\n",
    "j_1.addListeners(lambda x, y: ( u_par1(j_hatn=(x,y)), u_par2(off_vn=add((x,y),i_1.vec()))\n",
    "                               ,u_par2(off_vn=add(i_1.vec(),(x,y)))\n",
    "                               ,u_par3(off_vn=(x,y))\n",
    "                               ,u_par4(j_hatn=(x,y))\n",
    "                               ,u_par5(j_hatn=add((x,y),j_2.vec()))\n",
    "                              ))\n",
    "\n",
    "\n",
    "i_2.addListeners(lambda x, y: ( u_par2(i_hatn=(x,y))\n",
    "                               ,u_par4(i_hatn=(x,y))\n",
    "                               ,u_par5(i_hatn=add((x,y),i_1.vec()))\n",
    "                              ))\n",
    "\n",
    "j_2.addListeners(lambda x, y: ( u_par2(j_hatn=(x,y))\n",
    "                               ,u_par3(j_hatn=(x,y))\n",
    "                               ,u_par5(j_hatn=add((x,y),j_1.vec()))\n",
    "                              ))\n",
    "\n",
    "\n",
    "ax_x = Axis(scale=sc_x)\n",
    "ax_y = Axis(scale=sc_y, orientation='vertical')\n",
    "fig1 = Figure(marks=i_1.marks+j_1.marks, axes=[ax_x, ax_y])\n",
    "fig2 = Figure(marks=i_2.marks+j_2.marks, axes=[ax_x, ax_y])\n",
    "fig3 = Figure(marks=[par1,par2,par3,par4,par5], axes=[ax_x, ax_y])\n",
    "HBox([fig1,fig2,fig3])"
   ]
  },
  {
   "cell_type": "raw",
   "metadata": {},
   "source": [
    "//TODO: Format nicely, make metavariables [a..d] substitutable in the text\n",
    "Legend:\n",
    "    Fig1:\n",
    "        F(i_hat) = a, green\n",
    "        F(j_hat) = b, orange\n",
    "    Fig2:\n",
    "        G(i_hat) = c, blue\n",
    "        G(j_hat) = d, red\n",
    "    Fig3:\n",
    "        |a,b| = green\n",
    "        |c,d| = blue\n",
    "        |a,d| = red\n",
    "        |c,b| = orange\n",
    "        |a+b, c+d| = white\n",
    "        \n",
    "        a+b∧c+d  = a∧c+d + b∧c+d = a∧c + a∧d + b∧c + b∧d\n",
    "        |a,b+c| = |a,b|+|a,c|\n",
    "    "
   ]
  }
 ],
 "metadata": {
  "kernelspec": {
   "display_name": "Python 3",
   "language": "python",
   "name": "python3"
  },
  "language_info": {
   "codemirror_mode": {
    "name": "ipython",
    "version": 3
   },
   "file_extension": ".py",
   "mimetype": "text/x-python",
   "name": "python",
   "nbconvert_exporter": "python",
   "pygments_lexer": "ipython3",
   "version": "3.7.1"
  }
 },
 "nbformat": 4,
 "nbformat_minor": 2
}
