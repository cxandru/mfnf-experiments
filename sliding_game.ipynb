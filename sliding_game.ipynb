{
 "cells": [
  {
   "cell_type": "markdown",
   "metadata": {},
   "source": [
    "## Model using permutation as representation"
   ]
  },
  {
   "cell_type": "code",
   "execution_count": 2,
   "metadata": {},
   "outputs": [],
   "source": [
    "from sympy.combinatorics.permutations import Permutation\n",
    "\n",
    "#____________________________________Model_________________________________________________\n",
    "\n",
    "def evenPermRandom(n):\n",
    "    \"\"\"generates a random permutation of length n using a black-box approach\"\"\"\n",
    "    cand = Permutation.random(n)\n",
    "    while cand.signature() == -1: \n",
    "        cand = Permutation.random(n)\n",
    "    return cand\n",
    "\n",
    "class Model:  \n",
    "    def __init__(self, width, height):\n",
    "        self.n = width*height\n",
    "        self.width = width\n",
    "        self.blank_number = self.n-1    \n",
    "        #the position of the blank square\n",
    "        self.blank_pos = self.n-1\n",
    "        \n",
    "        #the .observer attribute needs to be initialized afterwards,\n",
    "        #before any operation calling update is executed\n",
    "        #added here in unitialized state for clarity\n",
    "        self.observer = None\n",
    "        \n",
    "        #identity needed to check if you've won\n",
    "        self.I = Permutation(range(self.n))\n",
    "        #start with identity\n",
    "        self.perm = Permutation(range(self.n))        \n",
    "\n",
    "    def shuffle(self):\n",
    "        \"\"\"reset the permutation to a random (solvable) one\"\"\"\n",
    "        self.perm = Permutation(self.n-1) * evenPermRandom(self.n-1)\n",
    "        self.blank_pos=self.n-1\n",
    "        self.observer.update(range(self.n))#notify change \n",
    "\n",
    "    \n",
    "    def adjacent(self, i,j): \n",
    "        dist = abs(i - j) \n",
    "        #same row or same row or same column\n",
    "        #for same row must check _actually_ same row\n",
    "        return (dist == self.width or dist == 1 and i // self.width == j // self.width)\n",
    "\n",
    "    def processMove(self,i):\n",
    "        if self.adjacent(i, self.blank_pos) :\n",
    "            self.perm = Permutation(i,self.blank_pos)*self.perm\n",
    "            self.observer.update([i,self.blank_pos]) #notify change\n",
    "            self.blank_pos = i\n",
    "            if self.perm == self.I:\n",
    "                print (\"Congrats!\") #belongs in View \n",
    "\n"
   ]
  },
  {
   "cell_type": "markdown",
   "metadata": {},
   "source": [
    "# n×m Sliding Puzzle Game"
   ]
  },
  {
   "cell_type": "code",
   "execution_count": 17,
   "metadata": {},
   "outputs": [
    {
     "data": {
      "application/vnd.jupyter.widget-view+json": {
       "model_id": "cc1be3fbaec64ad696d98e7761af779e",
       "version_major": 2,
       "version_minor": 0
      },
      "text/plain": [
       "VBox(children=(HBox(children=(BoundedIntText(value=1, description='width', max=10, min=1), BoundedIntText(valu…"
      ]
     },
     "metadata": {},
     "output_type": "display_data"
    },
    {
     "name": "stdout",
     "output_type": "stream",
     "text": [
      "Congrats!\n"
     ]
    }
   ],
   "source": [
    "from ipywidgets import Button, GridBox, HBox, Layout, ButtonStyle, BoundedIntText, VBox\n",
    "\n",
    "\n",
    "#_________________________________________View_______________________________________________________\n",
    "normal_b_style=ButtonStyle()\n",
    "blank_b_style=ButtonStyle()\n",
    "blank_b_style.button_color=\"lightgreen\"\n",
    "\n",
    "button_layout=Layout(\n",
    "                      height='50px'\n",
    "                    , width='50px'\n",
    ")\n",
    "\n",
    "#generate the formatting text for the GridBox\n",
    "def auto_string(l):\n",
    "    autos = ['auto' for i in range(l)]\n",
    "    return ' '.join(autos)\n",
    "\n",
    "class MyButton(Button):\n",
    "    def __init__(self,pos,**kwargs):\n",
    "        super().__init__(**kwargs)\n",
    "        self.pos = pos\n",
    "\n",
    "class GameView:        \n",
    "  \n",
    "    def __init__(self,model):\n",
    "        self.model = model\n",
    "        self.buttons = [MyButton(layout=button_layout\n",
    "                            , pos=i\n",
    "                            ) \n",
    "                       for i in range(self.model.n)\n",
    "                          ] \n",
    "\n",
    "        for b in self.buttons:\n",
    "            b.on_click(lambda b: self.model.processMove(b.pos)) #controller\n",
    "            \n",
    "        self.game = GridBox(\n",
    "            children=self.buttons,\n",
    "            layout=Layout(\n",
    "              grid_template_columns=auto_string(self.model.width)\n",
    "            , justify_content='flex-start'\n",
    "             )\n",
    "           )\n",
    "        self.update(range(self.model.n))\n",
    "        self.shuffleB = Button(description = \"shuffle\")\n",
    "        self.shuffleB.on_click(lambda b: self.model.shuffle()) #controller\n",
    "\n",
    "\n",
    "    def update(self,locations): #called by model\n",
    "        \"\"\"mutate the view at `locations` to reflect the model's state\"\"\"\n",
    "        for l in locations:\n",
    "            lp = l^self.model.perm\n",
    "            if lp == self.model.blank_number:\n",
    "                self.buttons[l].style = blank_b_style\n",
    "                self.buttons[l].description = \" \"\n",
    "            else:\n",
    "                self.buttons[l].style = normal_b_style\n",
    "                self.buttons[l].description = str(lp)\n",
    "          \n",
    "    \n",
    "#Dimension input & generation menu\n",
    "width_input = BoundedIntText(description=\"width\"\n",
    "                            , min=1\n",
    "                            , max=10\n",
    "                           )\n",
    "height_input = BoundedIntText(description=\"height\"\n",
    "                              , min=1\n",
    "                              , max=10\n",
    "                   )\n",
    "generateB = Button(description = \"Generate\")\n",
    "\n",
    "genMenu = HBox([width_input, height_input, generateB])\n",
    "\n",
    "allView = VBox([genMenu])\n",
    "\n",
    "def generate():\n",
    "    width = width_input.value\n",
    "    height = height_input.value\n",
    "    \n",
    "    model = Model(width,height)\n",
    "    view = GameView(model)\n",
    "    \n",
    "    model.observer = view\n",
    "    allView.children = (allView.children[0], HBox([view.game,view.shuffleB]))\n",
    "    \n",
    "    \n",
    "generateB.on_click(lambda b: generate())\n",
    "\n",
    "Permutation.print_cyclic = False\n",
    "allView"
   ]
  },
  {
   "cell_type": "code",
   "execution_count": null,
   "metadata": {},
   "outputs": [],
   "source": []
  }
 ],
 "metadata": {
  "kernelspec": {
   "display_name": "Python 3",
   "language": "python",
   "name": "python3"
  },
  "language_info": {
   "codemirror_mode": {
    "name": "ipython",
    "version": 3
   },
   "file_extension": ".py",
   "mimetype": "text/x-python",
   "name": "python",
   "nbconvert_exporter": "python",
   "pygments_lexer": "ipython3",
   "version": "3.7.1"
  }
 },
 "nbformat": 4,
 "nbformat_minor": 2
}
